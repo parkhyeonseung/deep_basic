{
  "nbformat": 4,
  "nbformat_minor": 0,
  "metadata": {
    "colab": {
      "name": "3_4_myself.ipynb",
      "provenance": [],
      "collapsed_sections": [],
      "authorship_tag": "ABX9TyNoj6FnZ+iM9EHdv65quvnm",
      "include_colab_link": true
    },
    "kernelspec": {
      "name": "python3",
      "display_name": "Python 3"
    }
  },
  "cells": [
    {
      "cell_type": "markdown",
      "metadata": {
        "id": "view-in-github",
        "colab_type": "text"
      },
      "source": [
        "<a href=\"https://colab.research.google.com/github/parkhyeonseung/deep_basic/blob/main/3_4_myself.ipynb\" target=\"_parent\"><img src=\"https://colab.research.google.com/assets/colab-badge.svg\" alt=\"Open In Colab\"/></a>"
      ]
    },
    {
      "cell_type": "code",
      "source": [
        "drive.mount('/content/drive')\n"
      ],
      "metadata": {
        "id": "MNJcCMc4jSsx"
      },
      "execution_count": null,
      "outputs": []
    },
    {
      "cell_type": "markdown",
      "source": [
        "## MNIST "
      ],
      "metadata": {
        "id": "sIurAvsIjx_b"
      }
    },
    {
      "cell_type": "code",
      "metadata": {
        "id": "PaEpTBKKEHSy",
        "colab": {
          "base_uri": "https://localhost:8080/"
        },
        "outputId": "f8762a2b-fb2b-4fee-c478-9996c0c825ea"
      },
      "source": [
        "import numpy as np\n",
        "import pickle\n",
        "from google.colab import drive\n",
        "import tensorflow as tf\n",
        "import matplotlib.pyplot as plt\n",
        "\n",
        "def get_data():\n",
        "    (x_train,t_train),(x_test,t_test) = tf.keras.datasets.mnist.load_data()\n",
        "    x_test = x_test.reshape(10000,-1)\n",
        "    x_test = x_test.astype('float32') / 255. #normalize 데이터를 0과 1사이로\n",
        "    return x_test, t_test\n",
        "\n",
        "def init_network():\n",
        "    with open(\"/content/drive/MyDrive/Colab Notebooks/sample_weight.pkl\", 'rb') as f: #저장된 wieght파일을 불러와 model에 적용\n",
        "        network = pickle.load(f)\n",
        "    return network\n",
        "\n",
        "def sigmoid(x):\n",
        "  return 1/(1+np.exp(-x))\n",
        "\n",
        "def softmax(a):\n",
        "    c = np.max(a) # list a 중 가장 큰 값\n",
        "    exp_a = np.exp(a-c)\n",
        "    sum_exp_a = np.sum(exp_a)\n",
        "    y = exp_a / sum_exp_a\n",
        "    return y\n",
        "\n",
        "def predict(network, x):\n",
        "    W1, W2, W3 = network['W1'], network['W2'], network['W3'] #위와 같은 3층 layer 구현\n",
        "    b1, b2, b3 = network['b1'], network['b2'], network['b3']\n",
        "\n",
        "    a1 = np.dot(x, W1) + b1     #(10000, 784)(784, 50)  => (10000, 50)\n",
        "    z1 = sigmoid(a1)\n",
        "    a2 = np.dot(z1, W2) + b2    # (10000, 50)(50, 100)  => (10000, 100)\n",
        "    z2 = sigmoid(a2)\n",
        "    a3 = np.dot(z2, W3) + b3    # (10000, 100)(100, 10) => (60000,10)\n",
        "    y = softmax(a3)\n",
        "    return y\n",
        "\n",
        "x, t = get_data()\n",
        "network = init_network()\n",
        "\n",
        "accuracy_cnt = 0\n",
        "for i in range(len(x)):\n",
        "    y = predict(network, x[i])\n",
        "    p= np.argmax(y) # 확률이 가장 높은 원소의 인덱스를 얻는다.\n",
        "    if p == t[i]:\n",
        "        accuracy_cnt += 1\n",
        "\n",
        "print(\"Accuracy:\" + str(float(accuracy_cnt) / len(x)))\n",
        "print(x[0].shape)"
      ],
      "execution_count": null,
      "outputs": [
        {
          "output_type": "stream",
          "name": "stdout",
          "text": [
            "Accuracy:0.9352\n",
            "(784,)\n"
          ]
        }
      ]
    },
    {
      "cell_type": "markdown",
      "source": [
        "## Two Layer Network class"
      ],
      "metadata": {
        "id": "pkZB7J9jjtXo"
      }
    },
    {
      "cell_type": "code",
      "source": [
        "import numpy as np\n",
        "import pickle\n",
        "from google.colab import drive\n",
        "import tensorflow as tf\n",
        "import matplotlib.pyplot as plt\n",
        "\n",
        "class TwoLayerNet:\n",
        "    # 초기화를 수행한다.\n",
        "    def __init__(self, input_size, hidden_size, output_size,\n",
        "                 weight_init_std=0.01):\n",
        "        # 가중치 초기화\n",
        "        self.params = {}\n",
        "        self.params['W1'] = weight_init_std * \\\n",
        "            np.random.randn(input_size, hidden_size)\n",
        "        self.params['b1'] = np.zeros(hidden_size)\n",
        "        self.params['W2'] = weight_init_std * \\\n",
        "            np.random.randn(hidden_size, output_size)\n",
        "        self.params['b2'] = np.zeros(output_size)\n",
        "\n",
        "    def get_data(self):\n",
        "        (x_train,t_train),(x_test,t_test) = tf.keras.datasets.mnist.load_data()\n",
        "        t_train=tf.keras.utils.to_categorical(t_train)\n",
        "        t_test=tf.keras.utils.to_categorical(t_test)\n",
        "        x_train=x_train.reshape(60000,-1)\n",
        "        x_test=x_test.reshape(10000,-1)\n",
        "        return x_train,t_train,x_test, t_test\n",
        "\n",
        "    def sigmoid(self,x):\n",
        "        return 1/(1+np.exp(-x))\n",
        "\n",
        "    def sigmoid_grad(self,x):\n",
        "        return (1.0 - self.sigmoid(x)) * self.sigmoid(x)\n",
        "\n",
        "    def softmax(self,x):\n",
        "        if x.ndim == 2:\n",
        "            x = x.T\n",
        "            x = x - np.max(x, axis=0)\n",
        "            y = np.exp(x) / np.sum(np.exp(x), axis=0)\n",
        "            return y.T \n",
        "\n",
        "        x = x - np.max(x) # 오버플로 대책\n",
        "        return np.exp(x) / np.sum(np.exp(x))\n",
        "\n",
        "    def cross_entropy_error(self,y, t):\n",
        "        if y.ndim == 1:\n",
        "            t = t.reshape(1, t.size)\n",
        "            y = y.reshape(1, y.size)\n",
        "            \n",
        "        # 훈련 데이터가 원-핫 벡터라면 정답 레이블의 인덱스로 반환\n",
        "        if t.size == y.size:\n",
        "            t = t.argmax(axis=1)\n",
        "                \n",
        "        batch_size = y.shape[0]\n",
        "        return -np.sum(np.log(y[np.arange(batch_size), t])) / batch_size\n",
        "\n",
        "    # 예측(추론)을 수행한다.\n",
        "    def predict(self, x):\n",
        "        W1, W2 = self.params['W1'], self.params['W2']\n",
        "        b1, b2 = self.params['b1'], self.params['b2']\n",
        "\n",
        "        a1 = np.dot(x, W1) + b1\n",
        "        z1 = self.sigmoid(a1)\n",
        "        #sigmoid 활성화함수\n",
        "        a2 = np.dot(z1, W2) + b2\n",
        "        y = self.softmax(a2)\n",
        "       \n",
        "        # softmax y의 확률값 \n",
        "        return y\n",
        "\n",
        "    # 손실 함수의 값을 구한다.\n",
        "    # x : 입력데이터, t : 정답 레이블\n",
        "    def loss(self, x, t):\n",
        "        y = self.predict(x)\n",
        "        #결과의 확률값과 원핫인코딩된 값을 비교\n",
        "        return self.cross_entropy_error(y, t)\n",
        "\n",
        "    # 정확도를 구한다.\n",
        "    def accuracy(self, x, t):\n",
        "        y = self.predict(x)\n",
        "        y = np.argmax(y, axis=1)\n",
        "        t = np.argmax(t, axis=1)\n",
        "\n",
        "        accuracy = np.sum(y == t) / float(x.shape[0])\n",
        "        return accuracy\n",
        "\n",
        "    # 가중치 매개변수의 기울기를 구한다.\n",
        "    def gradient(self, x, t):\n",
        "        W1, W2 = self.params['W1'], self.params['W2']\n",
        "        b1, b2 = self.params['b1'], self.params['b2']\n",
        "        grads = {}\n",
        "        \n",
        "        batch_num = x.shape[0]\n",
        "        \n",
        "        a1 = np.dot(x, W1) + b1\n",
        "        z1 = self.sigmoid(a1)\n",
        "        a2 = np.dot(z1, W2) + b2\n",
        "        y = self.softmax(a2)\n",
        "        \n",
        "        # backward\n",
        "        dy = (y - t) / batch_num\n",
        "        grads['W2'] = np.dot(z1.T, dy)\n",
        "        grads['b2'] = np.sum(dy, axis=0)\n",
        "        \n",
        "        da1 = np.dot(dy, W2.T)\n",
        "        dz1 = self.sigmoid_grad(a1) * da1\n",
        "        grads['W1'] = np.dot(x.T, dz1)\n",
        "        grads['b1'] = np.sum(dz1, axis=0)\n",
        "        return grads    \n",
        "\n"
      ],
      "metadata": {
        "id": "qYp61gJgkBEw"
      },
      "execution_count": null,
      "outputs": []
    },
    {
      "cell_type": "code",
      "source": [
        "network = TwoLayerNet(input_size=784, hidden_size=50, output_size=10)\n",
        "\n",
        "x_train,t_train,x_test,t_test = network.get_data()\n",
        "\n",
        "train_loss_list = []\n",
        "train_acc_list = []\n",
        "test_acc_list = []\n",
        "\n",
        "\n",
        "# 하이퍼파라미터\n",
        "iters_num = 1000  # 반복 횟수를 적절히 설정한다.\n",
        "train_size = x_train.shape[0]\n",
        "batch_size = 100   # 미니배치 크기\n",
        "learning_rate = 0.1\n",
        "iter_per_epoch = max(train_size / batch_size, 1)\n",
        "\n",
        "\n",
        "for i in range(iters_num):\n",
        "    # 미니배치 획득\n",
        "    batch_mask = np.random.choice(train_size, batch_size)\n",
        "    x_batch = x_train[batch_mask]\n",
        "    t_batch = t_train[batch_mask]\n",
        "    \n",
        "    # 기울기 계산\n",
        "    grad = network.gradient(x_batch, t_batch)\n",
        "    \n",
        "    # 매개변수 갱신\n",
        "    for key in ('W1', 'b1', 'W2', 'b2'):\n",
        "        network.params[key] -= learning_rate * grad[key]\n",
        "    \n",
        "    # 학습 경과 기록\n",
        "    loss = network.loss(x_batch, t_batch)\n",
        "    train_loss_list.append(loss)\n",
        "\n",
        "    if i % iter_per_epoch == 0:\n",
        "        train_acc = network.accuracy(x_train, t_train)\n",
        "        test_acc = network.accuracy(x_test, t_test)\n",
        "        train_acc_list.append(train_acc)\n",
        "        test_acc_list.append(test_acc)\n",
        "        print(\"train acc, test acc | \" + str(train_acc) + \", \" + str(test_acc))\n",
        "\n",
        "# 그래프 그리기\n",
        "print(\"\\n\\n\\n훈련데이터와 시험 데이터에 대한 정확도 추이\")\n",
        "# 그래프 그리기\n",
        "plt.subplot(1, 2, 1)\n",
        "markers = {'train': 'o', 'test': 's'}\n",
        "x = np.arange(len(train_acc_list))\n",
        "plt.plot(x, train_acc_list, label='train acc')\n",
        "plt.plot(x, test_acc_list, label='test acc', linestyle='--')\n",
        "plt.xlabel(\"epochs\")\n",
        "plt.ylabel(\"accuracy\")\n",
        "plt.legend(loc='lower right')\n",
        "\n",
        "plt.subplot(1, 2, 2)\n",
        "x = np.arange(len(train_loss_list))\n",
        "plt.plot(x, train_loss_list, label='train loss')\n",
        "plt.xlabel(\"epochs\")\n",
        "plt.ylabel(\"loss\")\n",
        "plt.legend()                   # 위\n",
        "plt.show()"
      ],
      "metadata": {
        "colab": {
          "base_uri": "https://localhost:8080/",
          "height": 408
        },
        "id": "lOd-HfaFkdk2",
        "outputId": "3aed8cfe-a247-495f-8a2d-8a6ed7718960"
      },
      "execution_count": null,
      "outputs": [
        {
          "output_type": "stream",
          "name": "stdout",
          "text": [
            "train acc, test acc | 0.16271666666666668, 0.1582\n"
          ]
        },
        {
          "output_type": "stream",
          "name": "stderr",
          "text": [
            "/usr/local/lib/python3.7/dist-packages/ipykernel_launcher.py:27: RuntimeWarning: overflow encountered in exp\n"
          ]
        },
        {
          "output_type": "stream",
          "name": "stdout",
          "text": [
            "train acc, test acc | 0.8440666666666666, 0.8527\n",
            "\n",
            "\n",
            "\n",
            "훈련데이터와 시험 데이터에 대한 정확도 추이\n"
          ]
        },
        {
          "output_type": "display_data",
          "data": {
            "image/png": "[encoded data removed]",
            "text/plain": [
              "<Figure size 432x288 with 2 Axes>"
            ]
          },
          "metadata": {
            "needs_background": "light"
          }
        }
      ]
    }
  ]
}